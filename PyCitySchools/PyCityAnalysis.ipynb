{
 "cells": [
  {
   "cell_type": "code",
   "execution_count": 1,
   "id": "4c266f02",
   "metadata": {},
   "outputs": [],
   "source": [
    "#prepare - bring in required modules\n",
    "import pandas as pd\n",
    "from pathlib import Path"
   ]
  },
  {
   "cell_type": "code",
   "execution_count": 2,
   "id": "1ede57b0",
   "metadata": {},
   "outputs": [],
   "source": [
    "#define csv filepaths\n",
    "schools_csv = Path(\"Resources/schools_complete.csv\")\n",
    "students_csv = Path(\"Resources/students_complete.csv\")\n",
    "\n",
    "#read csv's\n",
    "schools_data = pd.read_csv(schools_csv)\n",
    "students_data = pd.read_csv(students_csv)"
   ]
  },
  {
   "cell_type": "code",
   "execution_count": 3,
   "id": "40ec22b0",
   "metadata": {},
   "outputs": [
    {
     "data": {
      "text/plain": [
       "Index(['School ID', 'school_name', 'type', 'size', 'budget'], dtype='object')"
      ]
     },
     "execution_count": 3,
     "metadata": {},
     "output_type": "execute_result"
    }
   ],
   "source": [
    "#view headers to find common column for merging\n",
    "schools_data.columns"
   ]
  },
  {
   "cell_type": "code",
   "execution_count": 4,
   "id": "a244480d",
   "metadata": {},
   "outputs": [
    {
     "data": {
      "text/plain": [
       "Index(['Student ID', 'student_name', 'gender', 'year', 'school_name',\n",
       "       'reading_score', 'maths_score'],\n",
       "      dtype='object')"
      ]
     },
     "execution_count": 4,
     "metadata": {},
     "output_type": "execute_result"
    }
   ],
   "source": [
    "#view headers to find common column for merging\n",
    "students_data.columns"
   ]
  },
  {
   "cell_type": "code",
   "execution_count": 5,
   "id": "5f343c7f",
   "metadata": {},
   "outputs": [
    {
     "data": {
      "text/html": [
       "<div>\n",
       "<style scoped>\n",
       "    .dataframe tbody tr th:only-of-type {\n",
       "        vertical-align: middle;\n",
       "    }\n",
       "\n",
       "    .dataframe tbody tr th {\n",
       "        vertical-align: top;\n",
       "    }\n",
       "\n",
       "    .dataframe thead th {\n",
       "        text-align: right;\n",
       "    }\n",
       "</style>\n",
       "<table border=\"1\" class=\"dataframe\">\n",
       "  <thead>\n",
       "    <tr style=\"text-align: right;\">\n",
       "      <th></th>\n",
       "      <th>School ID</th>\n",
       "      <th>school_name</th>\n",
       "      <th>type</th>\n",
       "      <th>size</th>\n",
       "      <th>budget</th>\n",
       "      <th>Student ID</th>\n",
       "      <th>student_name</th>\n",
       "      <th>gender</th>\n",
       "      <th>year</th>\n",
       "      <th>reading_score</th>\n",
       "      <th>maths_score</th>\n",
       "    </tr>\n",
       "  </thead>\n",
       "  <tbody>\n",
       "    <tr>\n",
       "      <th>0</th>\n",
       "      <td>0</td>\n",
       "      <td>Huang High School</td>\n",
       "      <td>Government</td>\n",
       "      <td>2917</td>\n",
       "      <td>1910635</td>\n",
       "      <td>0</td>\n",
       "      <td>Paul Bradley</td>\n",
       "      <td>M</td>\n",
       "      <td>9</td>\n",
       "      <td>96</td>\n",
       "      <td>94</td>\n",
       "    </tr>\n",
       "    <tr>\n",
       "      <th>1</th>\n",
       "      <td>0</td>\n",
       "      <td>Huang High School</td>\n",
       "      <td>Government</td>\n",
       "      <td>2917</td>\n",
       "      <td>1910635</td>\n",
       "      <td>1</td>\n",
       "      <td>Victor Smith</td>\n",
       "      <td>M</td>\n",
       "      <td>12</td>\n",
       "      <td>90</td>\n",
       "      <td>43</td>\n",
       "    </tr>\n",
       "    <tr>\n",
       "      <th>2</th>\n",
       "      <td>0</td>\n",
       "      <td>Huang High School</td>\n",
       "      <td>Government</td>\n",
       "      <td>2917</td>\n",
       "      <td>1910635</td>\n",
       "      <td>2</td>\n",
       "      <td>Kevin Rodriguez</td>\n",
       "      <td>M</td>\n",
       "      <td>12</td>\n",
       "      <td>41</td>\n",
       "      <td>76</td>\n",
       "    </tr>\n",
       "    <tr>\n",
       "      <th>3</th>\n",
       "      <td>0</td>\n",
       "      <td>Huang High School</td>\n",
       "      <td>Government</td>\n",
       "      <td>2917</td>\n",
       "      <td>1910635</td>\n",
       "      <td>3</td>\n",
       "      <td>Richard Scott</td>\n",
       "      <td>M</td>\n",
       "      <td>12</td>\n",
       "      <td>89</td>\n",
       "      <td>86</td>\n",
       "    </tr>\n",
       "    <tr>\n",
       "      <th>4</th>\n",
       "      <td>0</td>\n",
       "      <td>Huang High School</td>\n",
       "      <td>Government</td>\n",
       "      <td>2917</td>\n",
       "      <td>1910635</td>\n",
       "      <td>4</td>\n",
       "      <td>Bonnie Ray</td>\n",
       "      <td>F</td>\n",
       "      <td>9</td>\n",
       "      <td>87</td>\n",
       "      <td>69</td>\n",
       "    </tr>\n",
       "  </tbody>\n",
       "</table>\n",
       "</div>"
      ],
      "text/plain": [
       "   School ID        school_name        type  size   budget  Student ID  \\\n",
       "0          0  Huang High School  Government  2917  1910635           0   \n",
       "1          0  Huang High School  Government  2917  1910635           1   \n",
       "2          0  Huang High School  Government  2917  1910635           2   \n",
       "3          0  Huang High School  Government  2917  1910635           3   \n",
       "4          0  Huang High School  Government  2917  1910635           4   \n",
       "\n",
       "      student_name gender  year  reading_score  maths_score  \n",
       "0     Paul Bradley      M     9             96           94  \n",
       "1     Victor Smith      M    12             90           43  \n",
       "2  Kevin Rodriguez      M    12             41           76  \n",
       "3    Richard Scott      M    12             89           86  \n",
       "4       Bonnie Ray      F     9             87           69  "
      ]
     },
     "execution_count": 5,
     "metadata": {},
     "output_type": "execute_result"
    }
   ],
   "source": [
    "#merge csv's and view\n",
    "schools_merged_df = pd.merge(schools_data, students_data, on=[\"school_name\"], how=\"left\")\n",
    "schools_merged_df.head()"
   ]
  },
  {
   "cell_type": "code",
   "execution_count": 14,
   "id": "c6c72981",
   "metadata": {},
   "outputs": [
    {
     "data": {
      "text/plain": [
       "72.80827163645647"
      ]
     },
     "execution_count": 14,
     "metadata": {},
     "output_type": "execute_result"
    }
   ],
   "source": [
    "#run calculations on merged data\n",
    "\n",
    "#total schools\n",
    "total_schools = schools_merged_df[\"school_name\"].nunique()\n",
    "total_schools\n",
    "\n",
    "#total students\n",
    "total_students = schools_merged_df[\"Student ID\"].nunique()\n",
    "total_students\n",
    "\n",
    "#total budget - this is repeated on each line, so can't rely on the sum\n",
    "first_schools = schools_merged_df.groupby(\"school_name\").first()\n",
    "total_budget = first_schools[\"budget\"].sum()\n",
    "total_budget\n",
    "\n",
    "#average maths score\n",
    "av_maths_score = schools_merged_df[\"maths_score\"].mean()\n",
    "av_maths_score\n",
    "\n",
    "#average reading score\n",
    "av_read_score = schools_merged_df[\"reading_score\"].mean()\n",
    "av_read_score\n",
    "\n",
    "#percentage passing maths - 50% or higer\n",
    "maths_pass = schools_merged_df.loc[schools_merged_df[\"maths_score\"] >= 50]\n",
    "maths_percent_pass = (len(maths_pass)/total_students)*100\n",
    "maths_percent_pass\n",
    "\n",
    "#percentage passing reading - 50% or higher\n",
    "read_pass = schools_merged_df.loc[schools_merged_df[\"reading_score\"] >= 50]\n",
    "read_percent_pass = (len(read_pass)/total_students)*100\n",
    "read_percent_pass\n",
    "\n",
    "#percentage passing both maths and reading\n",
    "both_pass = schools_merged_df.loc[(schools_merged_df[\"maths_score\"] >= 50) & (schools_merged_df[\"reading_score\"] >= 50)]\n",
    "both_percent_pass = (len(both_pass)/total_students)*100\n",
    "both_percent_pass"
   ]
  },
  {
   "cell_type": "code",
   "execution_count": 16,
   "id": "8ababbbe",
   "metadata": {},
   "outputs": [
    {
     "data": {
      "text/html": [
       "<div>\n",
       "<style scoped>\n",
       "    .dataframe tbody tr th:only-of-type {\n",
       "        vertical-align: middle;\n",
       "    }\n",
       "\n",
       "    .dataframe tbody tr th {\n",
       "        vertical-align: top;\n",
       "    }\n",
       "\n",
       "    .dataframe thead th {\n",
       "        text-align: right;\n",
       "    }\n",
       "</style>\n",
       "<table border=\"1\" class=\"dataframe\">\n",
       "  <thead>\n",
       "    <tr style=\"text-align: right;\">\n",
       "      <th></th>\n",
       "      <th>Total Schools</th>\n",
       "      <th>Total Students</th>\n",
       "      <th>Total Budget</th>\n",
       "      <th>Average Maths Score</th>\n",
       "      <th>Average Reading Score</th>\n",
       "      <th>% Passing Maths</th>\n",
       "      <th>% Passing Reading</th>\n",
       "      <th>% Overall Pass</th>\n",
       "    </tr>\n",
       "  </thead>\n",
       "  <tbody>\n",
       "    <tr>\n",
       "      <th>0</th>\n",
       "      <td>15</td>\n",
       "      <td>39,170</td>\n",
       "      <td>$24,649,428.00</td>\n",
       "      <td>70.338192</td>\n",
       "      <td>69.980138</td>\n",
       "      <td>86.078632</td>\n",
       "      <td>84.426857</td>\n",
       "      <td>72.808272</td>\n",
       "    </tr>\n",
       "  </tbody>\n",
       "</table>\n",
       "</div>"
      ],
      "text/plain": [
       "   Total Schools Total Students    Total Budget  Average Maths Score  \\\n",
       "0             15         39,170  $24,649,428.00            70.338192   \n",
       "\n",
       "   Average Reading Score  % Passing Maths  % Passing Reading  % Overall Pass  \n",
       "0              69.980138        86.078632          84.426857       72.808272  "
      ]
     },
     "execution_count": 16,
     "metadata": {},
     "output_type": "execute_result"
    }
   ],
   "source": [
    "#show calulcations in a dataframe\n",
    "\n",
    "#collate results\n",
    "lga_summary = [{\"Total Schools\": total_schools, \"Total Students\": total_students,\\\n",
    "                \"Total Budget\": total_budget, \"Average Maths Score\": av_maths_score,\\\n",
    "                \"Average Reading Score\": av_read_score, \"% Passing Maths\": maths_percent_pass,\\\n",
    "                \"% Passing Reading\": read_percent_pass, \"% Overall Pass\": both_percent_pass}]\n",
    "\n",
    "#create dataframe\n",
    "lga_summary_df = pd.DataFrame(lga_summary)\n",
    "\n",
    "#format required columns for decimal places and currency\n",
    "lga_summary_df[\"Total Students\"] = lga_summary_df[\"Total Students\"].astype(int).map(\"{:,}\".format)\n",
    "lga_summary_df[\"Total Budget\"] = lga_summary_df[\"Total Budget\"].astype(float).map(\"${:,.2f}\".format)\n",
    "\n",
    "#view\n",
    "lga_summary_df\n"
   ]
  },
  {
   "cell_type": "code",
   "execution_count": null,
   "id": "fe386097",
   "metadata": {},
   "outputs": [],
   "source": []
  }
 ],
 "metadata": {
  "kernelspec": {
   "display_name": "Python 3 (ipykernel)",
   "language": "python",
   "name": "python3"
  },
  "language_info": {
   "codemirror_mode": {
    "name": "ipython",
    "version": 3
   },
   "file_extension": ".py",
   "mimetype": "text/x-python",
   "name": "python",
   "nbconvert_exporter": "python",
   "pygments_lexer": "ipython3",
   "version": "3.10.9"
  }
 },
 "nbformat": 4,
 "nbformat_minor": 5
}
